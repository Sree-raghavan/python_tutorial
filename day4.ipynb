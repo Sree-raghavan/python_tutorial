{
  "nbformat": 4,
  "nbformat_minor": 0,
  "metadata": {
    "colab": {
      "name": "day4",
      "provenance": [],
      "collapsed_sections": [
        "O4UthciYV-U8",
        "LWNne5I5WoaV",
        "YNDVU5YQYsSo"
      ]
    },
    "kernelspec": {
      "name": "python3",
      "display_name": "Python 3"
    }
  },
  "cells": [
    {
      "cell_type": "markdown",
      "metadata": {
        "id": "O4UthciYV-U8",
        "colab_type": "text"
      },
      "source": [
        "# Day-4 : Python Basics\n",
        "CLASS IN PYTHON"
      ]
    },
    {
      "cell_type": "code",
      "metadata": {
        "id": "_svuPlGPVqGH",
        "colab_type": "code",
        "colab": {}
      },
      "source": [
        "#create class using class :\n",
        "class myclass:\n",
        "  x=5\n",
        "p=myclass()\n",
        "print(p.x)"
      ],
      "execution_count": null,
      "outputs": []
    },
    {
      "cell_type": "markdown",
      "metadata": {
        "id": "LWNne5I5WoaV",
        "colab_type": "text"
      },
      "source": [
        "# The __init__() Function\n",
        "All classes have a function called __init__(), which is always executed when the class is being initiated.\n",
        "\n",
        "Use the __init__() function to assign values to object properties, or other operations that are necessary to do when the object is being created:"
      ]
    },
    {
      "cell_type": "code",
      "metadata": {
        "id": "fNuFCrV3Wwp0",
        "colab_type": "code",
        "colab": {}
      },
      "source": [
        "class person:\n",
        "  def __init__(self, name, age):\n",
        "    self.name = name\n",
        "    self.age = age\n",
        "p1 = person(\"John\", 36)\n",
        "print(p1.name)\n",
        "print(p1.age)\n"
      ],
      "execution_count": null,
      "outputs": []
    },
    {
      "cell_type": "code",
      "metadata": {
        "id": "L-pASZNUXCzs",
        "colab_type": "code",
        "colab": {}
      },
      "source": [
        "#Object Methods\n",
        "#can contain Methods\n",
        "class person:\n",
        "  def __init__(self, name, age):\n",
        "    self.name = name\n",
        "    self.age = age\n",
        "\n",
        "  def myfunc(self):\n",
        "    print(\"Hello my name is \" + self.name)\n",
        "\n",
        "p = person(\"John\", 36)\n",
        "p.myfunc()\n",
        "\n",
        "#The self parameter is a reference to the current instance of the class, and is used to access variables that belongs to the class."
      ],
      "execution_count": null,
      "outputs": []
    },
    {
      "cell_type": "code",
      "metadata": {
        "id": "QwJIug9nXa1T",
        "colab_type": "code",
        "colab": {}
      },
      "source": [
        "#Modifying the object values\n",
        "class person:\n",
        "  def __init__(self, name, age):\n",
        "    self.name = name\n",
        "    self.age = age\n",
        "\n",
        "  def myfunc(self):\n",
        "    print(\"Hello my name is \" + self.name)\n",
        "\n",
        "p = person(\"John\", 36)\n",
        "p.age = 40\n",
        "print(p.age)"
      ],
      "execution_count": null,
      "outputs": []
    },
    {
      "cell_type": "code",
      "metadata": {
        "id": "dE2eTgIsX0Gx",
        "colab_type": "code",
        "colab": {}
      },
      "source": [
        "#can delete object  properties using del keyword\n",
        "class person:\n",
        "  def __init__(self, name, age):\n",
        "    self.name = name\n",
        "    self.age = age\n",
        "\n",
        "  def myfunc(self):\n",
        "    print(\"Hello my name is \" + self.name)\n",
        "\n",
        "p = person(\"John\", 36)\n",
        "\n",
        "del p.age\n",
        "\n",
        "print(p.age)\n",
        "\n",
        "#error will be displayed because age is deleted"
      ],
      "execution_count": null,
      "outputs": []
    },
    {
      "cell_type": "code",
      "metadata": {
        "id": "uECuNHP4YLNv",
        "colab_type": "code",
        "colab": {}
      },
      "source": [
        "#delete the objects \n",
        "class person:\n",
        "  def __init__(self, name, age):\n",
        "    self.name = name\n",
        "    self.age = age\n",
        "\n",
        "  def myfunc(self):\n",
        "    print(\"Hello my name is \" + self.name)\n",
        "\n",
        "p = Person(\"John\", 36)\n",
        "\n",
        "del p\n",
        "\n",
        "print(p)\n",
        "\n",
        "#object p will be deleted so the output will be an error"
      ],
      "execution_count": null,
      "outputs": []
    },
    {
      "cell_type": "markdown",
      "metadata": {
        "id": "YNDVU5YQYsSo",
        "colab_type": "text"
      },
      "source": [
        "# INHERITANCE"
      ]
    },
    {
      "cell_type": "code",
      "metadata": {
        "id": "0CIdTwU6Yw9v",
        "colab_type": "code",
        "colab": {}
      },
      "source": [
        "'''\n",
        "For inheritance first parent class is created and after that child class created \n",
        "and in child class the parent class is send as parameter\n",
        "'''\n",
        "class person:\n",
        "  def __init__(self, fname, lname):\n",
        "    self.firstname = fname\n",
        "    self.lastname = lname\n",
        "\n",
        "  def printname(self):\n",
        "    print(self.firstname, self.lastname)\n",
        "\n",
        "class child(person):\n",
        "  pass\n",
        "\n",
        "x = child(\"Robert\", \"downey\")\n",
        "x.printname()\n",
        "\n",
        "#pass keyword is used ,if no other properties need not to be added to child class"
      ],
      "execution_count": null,
      "outputs": []
    },
    {
      "cell_type": "code",
      "metadata": {
        "id": "xyTmRpImZku2",
        "colab_type": "code",
        "colab": {}
      },
      "source": [
        "'''\n",
        "if init() is created in child class parent class init() will be overrided over new one\n",
        "'''\n",
        "class person:\n",
        "  def __init__(self):\n",
        "    print(\"Parent\")\n",
        "class child(person):\n",
        "  def __init__(self):\n",
        "    print(\"child\")\n",
        "\n",
        "x = child()"
      ],
      "execution_count": null,
      "outputs": []
    },
    {
      "cell_type": "code",
      "metadata": {
        "id": "TXa_spiTakF3",
        "colab_type": "code",
        "colab": {}
      },
      "source": [
        "#to avoid the overriding the init() of child need to call init() of parent\n",
        "class person:\n",
        "  def __init__(self):\n",
        "    print(\"Parent\")\n",
        "class child(person):\n",
        "  def __init__(self):\n",
        "    person.__init__(self)\n",
        "    print(\"child\")\n",
        "\n",
        "x = child()\n"
      ],
      "execution_count": null,
      "outputs": []
    },
    {
      "cell_type": "code",
      "metadata": {
        "id": "7lBrT6Ppa-T6",
        "colab_type": "code",
        "colab": {}
      },
      "source": [
        "'''\n",
        "Python also has a super()  that will make the child class inherit all the methods and properties from its parent\n",
        "'''\n",
        "class person:\n",
        "  def __init__(self, fname, lname):\n",
        "    self.firstname = fname\n",
        "    self.lastname = lname\n",
        "\n",
        "  def printname(self):\n",
        "    print(self.firstname, self.lastname)\n",
        "\n",
        "class child(person):\n",
        "  def __init__(self, fname, lname):\n",
        "    super().__init__(fname, lname)\n",
        "\n",
        "x = child(\"Robert\", \"Downey\")\n",
        "x.printname()"
      ],
      "execution_count": null,
      "outputs": []
    }
  ]
}