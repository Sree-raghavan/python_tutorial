{
  "nbformat": 4,
  "nbformat_minor": 0,
  "metadata": {
    "colab": {
      "name": "day3.ipynb",
      "provenance": [],
      "collapsed_sections": [
        "S_GnJ25sDFNJ",
        "UQ5-ieHLFv-5"
      ]
    },
    "kernelspec": {
      "name": "python3",
      "display_name": "Python 3"
    }
  },
  "cells": [
    {
      "cell_type": "markdown",
      "metadata": {
        "id": "BLrQtSjpC7rw",
        "colab_type": "text"
      },
      "source": [
        "# DAY 3:Python BASICS"
      ]
    },
    {
      "cell_type": "markdown",
      "metadata": {
        "id": "S_GnJ25sDFNJ",
        "colab_type": "text"
      },
      "source": [
        "# **Python Functions**\n",
        "### Functions are a block of code which runs when it is called.\n",
        "### Can have arguements as parameter and can also return value"
      ]
    },
    {
      "cell_type": "code",
      "metadata": {
        "id": "c9Qu9xqhDxv1",
        "colab_type": "code",
        "colab": {
          "base_uri": "https://localhost:8080/",
          "height": 34
        },
        "outputId": "bff528ef-bd50-4473-d206-8106dba588c2"
      },
      "source": [
        "#defining the function\n",
        "def my_func():\n",
        "  print(\"Hello ,From your  function\")\n",
        "\n",
        "#calling the function\n",
        "my_func()"
      ],
      "execution_count": 1,
      "outputs": [
        {
          "output_type": "stream",
          "text": [
            "Hello ,From your  function\n"
          ],
          "name": "stdout"
        }
      ]
    },
    {
      "cell_type": "code",
      "metadata": {
        "id": "QdChIRBrEJoV",
        "colab_type": "code",
        "colab": {}
      },
      "source": [
        "#with Arguements\n",
        "def my_func(arguement):\n",
        "  print(arguement)\n",
        "\n",
        "my_func(\"Robert\")\n",
        "my_func(\"Downey\")\n",
        "my_func(\"JR\")"
      ],
      "execution_count": null,
      "outputs": []
    },
    {
      "cell_type": "code",
      "metadata": {
        "id": "u6gbfWJ7EiBC",
        "colab_type": "code",
        "colab": {}
      },
      "source": [
        "#Multiple Arguements\n",
        "def my_func(argue1, argue2,argue3):\n",
        "  print(argue1 + \" \" +argue2 + \" \"+argue3)\n",
        "\n",
        "my_func(\"Robert\", \"Downey\",\"JR\")"
      ],
      "execution_count": null,
      "outputs": []
    },
    {
      "cell_type": "code",
      "metadata": {
        "id": "4IXWXGxrFRbZ",
        "colab_type": "code",
        "colab": {}
      },
      "source": [
        "#DEFAULT PARAMETER\n",
        "def my_function(country = \"England\"):\n",
        "  print(\"I am from \" + country)\n",
        "\n",
        "my_function(\"India\")\n",
        "my_function()\n",
        "my_function(\"Brazil\")"
      ],
      "execution_count": null,
      "outputs": []
    },
    {
      "cell_type": "code",
      "metadata": {
        "id": "lwRMvsLRFd6g",
        "colab_type": "code",
        "colab": {}
      },
      "source": [
        "#With return Values\n",
        "def my_func(x):\n",
        "  return 5 * x\n",
        "\n",
        "print(my_func(3))\n",
        "print(my_func(5))\n",
        "print(my_func(9))"
      ],
      "execution_count": null,
      "outputs": []
    },
    {
      "cell_type": "markdown",
      "metadata": {
        "id": "UQ5-ieHLFv-5",
        "colab_type": "text"
      },
      "source": [
        "# **Python Arrays**\n",
        "#append()\tAdds an element at the end of the list\n",
        "#clear()\tRemoves all the elements from the list\n",
        "#copy()\tReturns a copy of the list\n",
        "#count()\tReturns the number of elements with the specified value\n",
        "#extend()\tAdd the elements of a list (or any iterable), to the end of the current list\n",
        "#index()\tReturns the index of the first element with the specified value\n",
        "#insert()\tAdds an element at the specified position\n",
        "#pop()\tRemoves the element at the specified position\n",
        "#remove()\tRemoves the first item with the specified value\n",
        "#reverse()\tReverses the order of the list\n",
        "#sort()\tSorts the list\n"
      ]
    },
    {
      "cell_type": "code",
      "metadata": {
        "id": "VoYekm2BF2FR",
        "colab_type": "code",
        "colab": {
          "base_uri": "https://localhost:8080/",
          "height": 34
        },
        "outputId": "b263d589-5b92-49df-dd27-252ded3ea9b0"
      },
      "source": [
        "#array declared using []\n",
        "cars = [\"Ford\", \"Volvo\", \"BMW\"]\n",
        "print(cars)"
      ],
      "execution_count": 8,
      "outputs": [
        {
          "output_type": "stream",
          "text": [
            "['Ford', 'Volvo', 'BMW']\n"
          ],
          "name": "stdout"
        }
      ]
    },
    {
      "cell_type": "code",
      "metadata": {
        "id": "RTZ44dEsHBQ-",
        "colab_type": "code",
        "colab": {}
      },
      "source": [
        "#ADD ONE MORE USING append()\n",
        "cars = [\"Ford\", \"Volvo\", \"BMW\"]\n",
        "print(cars)\n",
        "cars.append(\"Honda\")\n",
        "print(cars)"
      ],
      "execution_count": null,
      "outputs": []
    },
    {
      "cell_type": "code",
      "metadata": {
        "id": "_ijA8xltHOvI",
        "colab_type": "code",
        "colab": {}
      },
      "source": [
        "#remove Using pop()\n",
        "cars = [\"Ford\", \"Volvo\", \"BMW\"]\n",
        "print(cars)\n",
        "cars.pop()\n",
        "print(cars)\n"
      ],
      "execution_count": null,
      "outputs": []
    }
  ]
}