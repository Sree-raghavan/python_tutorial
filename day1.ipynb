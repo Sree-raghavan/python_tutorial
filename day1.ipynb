{
  "nbformat": 4,
  "nbformat_minor": 0,
  "metadata": {
    "colab": {
      "name": "day1.ipynb",
      "provenance": []
    },
    "kernelspec": {
      "name": "python3",
      "display_name": "Python 3"
    }
  },
  "cells": [
    {
      "cell_type": "markdown",
      "metadata": {
        "id": "XGbKXXkLMdzi",
        "colab_type": "text"
      },
      "source": [
        "# **DAY1** :*Python BASICS* \n",
        "### #'#' is used for single line comments\n",
        "## ''' ''' ised for multi line comments\n"
      ]
    },
    {
      "cell_type": "code",
      "metadata": {
        "id": "X_a9HAdzLdG4",
        "colab_type": "code",
        "colab": {}
      },
      "source": [
        "#PRINT HEllO WORLD\n",
        "print(\"hello,User\")"
      ],
      "execution_count": null,
      "outputs": []
    },
    {
      "cell_type": "code",
      "metadata": {
        "id": "JT3dPJ6WP6eM",
        "colab_type": "code",
        "colab": {}
      },
      "source": [
        "#variable creation\n",
        "#No declaration is needed for Python\n",
        "x = 5\n",
        "y = \"John\"\n",
        "print(x)\n",
        "print(y)"
      ],
      "execution_count": null,
      "outputs": []
    },
    {
      "cell_type": "markdown",
      "metadata": {
        "id": "66RwkvItQopH",
        "colab_type": "text"
      },
      "source": [
        "To get datatype of the variable function type() is used \n",
        "\n",
        "---\n",
        "\n",
        "\n",
        "\n",
        "\n",
        "\n"
      ]
    },
    {
      "cell_type": "code",
      "metadata": {
        "id": "W49styByQjwS",
        "colab_type": "code",
        "colab": {}
      },
      "source": [
        "#print the datatype \n",
        "x = 5\n",
        "print(type(x))"
      ],
      "execution_count": null,
      "outputs": []
    },
    {
      "cell_type": "code",
      "metadata": {
        "id": "zigfkSdYMc-M",
        "colab_type": "code",
        "colab": {}
      },
      "source": [
        "#input from keyboard\n",
        "a=input(\"press any key\")\n",
        "print(a)\n"
      ],
      "execution_count": null,
      "outputs": []
    },
    {
      "cell_type": "code",
      "metadata": {
        "id": "Mm64XUAkNkQA",
        "colab_type": "code",
        "colab": {}
      },
      "source": [
        "#If ELSE\n",
        "a=input(\"press 1 for hello :\")\n",
        "if a == \"1\":\n",
        "  print(\"hello\")\n",
        "else:\n",
        "  print(\"hi\")\n"
      ],
      "execution_count": null,
      "outputs": []
    },
    {
      "cell_type": "code",
      "metadata": {
        "id": "AAhYk8ObO74U",
        "colab_type": "code",
        "colab": {}
      },
      "source": [
        "#ELIF\n",
        "a = 33\n",
        "b = 33\n",
        "if b > a:\n",
        "  print(\"b is greater than a\")\n",
        "elif a == b:\n",
        "  print(\"a and b are equal\")\n"
      ],
      "execution_count": null,
      "outputs": []
    },
    {
      "cell_type": "markdown",
      "metadata": {
        "id": "i0hfoK6tRnol",
        "colab_type": "text"
      },
      "source": [
        "\n",
        "# **LIST**\n",
        "A list is a collection which is ordered and changeable. \n",
        "### In python  lists are written using square brackets\n",
        "\n"
      ]
    },
    {
      "cell_type": "code",
      "metadata": {
        "id": "bfZX_CCCSKep",
        "colab_type": "code",
        "colab": {}
      },
      "source": [
        "list1 = [\"a\", \"b\", \"c\"]\n",
        "print(list1)"
      ],
      "execution_count": null,
      "outputs": []
    },
    {
      "cell_type": "code",
      "metadata": {
        "id": "iEUfs1TeSfMZ",
        "colab_type": "code",
        "colab": {}
      },
      "source": [
        "#mention index of the value in list to access particular one\n",
        "list1 = [\"a\", \"b\", \"c\"]\n",
        "print(list1[1])"
      ],
      "execution_count": null,
      "outputs": []
    },
    {
      "cell_type": "code",
      "metadata": {
        "id": "CPX9qMqgS7mg",
        "colab_type": "code",
        "colab": {}
      },
      "source": [
        "#range of indexes\n",
        "#Where to start and end\n",
        "list1 = [\"a\",\"b\",\"c\",\"d\",\"e\",\"f\",\"g\",\"h\"]\n",
        "print(list1[2:5])"
      ],
      "execution_count": null,
      "outputs": []
    },
    {
      "cell_type": "code",
      "metadata": {
        "id": "2cB19-XrTcNo",
        "colab_type": "code",
        "colab": {}
      },
      "source": [
        "#to change the value\n",
        "list1 = [\"a\", \"b\", \"c\"]\n",
        "list1[2]=\"d\"\n",
        "print(list1)"
      ],
      "execution_count": null,
      "outputs": []
    },
    {
      "cell_type": "code",
      "metadata": {
        "id": "FAbGgxlWTqSG",
        "colab_type": "code",
        "colab": {}
      },
      "source": [
        "#to print list one by one \n",
        "#using loop\n",
        "list11 = [\"a\", \"b\", \"c\"]\n",
        "for x in list1:\n",
        "  print(x)"
      ],
      "execution_count": null,
      "outputs": []
    },
    {
      "cell_type": "code",
      "metadata": {
        "id": "-HZkhblkT5UV",
        "colab_type": "code",
        "colab": {}
      },
      "source": [
        "#to check Wheather particular item exist\n",
        "list1 = [\"a\", \"b\", \"c\"]\n",
        "if \"a\" in list1:\n",
        "  print(\"Yes, 'a' is in the  list\")"
      ],
      "execution_count": null,
      "outputs": []
    },
    {
      "cell_type": "code",
      "metadata": {
        "id": "pvb9jRH0UJQ9",
        "colab_type": "code",
        "colab": {}
      },
      "source": [
        "#to print no of items in list \n",
        "#using len()\n",
        "list1 = [\"a\", \"b\", \"c\"]\n",
        "print(len(list1))"
      ],
      "execution_count": null,
      "outputs": []
    },
    {
      "cell_type": "code",
      "metadata": {
        "id": "WS5pdPv8UX40",
        "colab_type": "code",
        "colab": {}
      },
      "source": [
        "#to add items to the list\n",
        "#using append()\n",
        "list1 = [\"a\", \"b\", \"c\"]\n",
        "list1.append(\"d\")\n",
        "print(list1)"
      ],
      "execution_count": null,
      "outputs": []
    },
    {
      "cell_type": "code",
      "metadata": {
        "id": "wvFBpXwuUrcT",
        "colab_type": "code",
        "colab": {}
      },
      "source": [
        "#to add particular value at a position\n",
        "#using insert()\n",
        "list1 = [\"a\", \"c\", \"d\"]\n",
        "list1.insert(1, \"b\")\n",
        "print(list1)"
      ],
      "execution_count": null,
      "outputs": []
    },
    {
      "cell_type": "code",
      "metadata": {
        "id": "Vmyj9pCKVGBx",
        "colab_type": "code",
        "colab": {}
      },
      "source": [
        "#to remove particular value\n",
        "#Using remove()\n",
        "list1 = [\"a\", \"b\", \"c\"]\n",
        "list1.remove(\"b\")\n",
        "print(list1)"
      ],
      "execution_count": null,
      "outputs": []
    },
    {
      "cell_type": "code",
      "metadata": {
        "id": "7Tqajh39V136",
        "colab_type": "code",
        "colab": {}
      },
      "source": [
        "#pop() removes the specified index or the last item if index is not specified\n",
        "list1 = [\"a\", \"b\", \"c\"]\n",
        "list1.pop()\n",
        "print(list1)"
      ],
      "execution_count": null,
      "outputs": []
    },
    {
      "cell_type": "code",
      "metadata": {
        "id": "bDP6sXNeWF0P",
        "colab_type": "code",
        "colab": {}
      },
      "source": [
        "\n",
        "#del keyword removes the specified index\n",
        "list1 = [\"a\", \"b\", \"c\"]\n",
        "del list1[0]\n",
        "print(list1)"
      ],
      "execution_count": null,
      "outputs": []
    },
    {
      "cell_type": "code",
      "metadata": {
        "id": "e1o57_6RWW4m",
        "colab_type": "code",
        "colab": {}
      },
      "source": [
        "#clear() to empty list\n",
        "list1 = [\"a\", \"b\", \"c\"]\n",
        "list1.clear()\n",
        "print(list1)"
      ],
      "execution_count": null,
      "outputs": []
    },
    {
      "cell_type": "code",
      "metadata": {
        "id": "00ZgZ6MGWm8W",
        "colab_type": "code",
        "colab": {
          "base_uri": "https://localhost:8080/",
          "height": 34
        },
        "outputId": "6ecb7770-edd2-432a-9d08-427e24e19e74"
      },
      "source": [
        "#To copy a list\n",
        "#using copy()\n",
        "list1 = [\"a\", \"b\", \"c\"]\n",
        "list2 = list1.copy()\n",
        "print(list2)"
      ],
      "execution_count": 35,
      "outputs": [
        {
          "output_type": "stream",
          "text": [
            "['a', 'b', 'c']\n"
          ],
          "name": "stdout"
        }
      ]
    },
    {
      "cell_type": "code",
      "metadata": {
        "id": "yT57aCJ5W2X9",
        "colab_type": "code",
        "colab": {}
      },
      "source": [
        "#Join two list\n",
        "list1 = [\"a\", \"b\", \"c\"]\n",
        "list2 = [\"d\"]\n",
        "list3=list1+list2\n",
        "print(list3)"
      ],
      "execution_count": null,
      "outputs": []
    },
    {
      "cell_type": "markdown",
      "metadata": {
        "id": "accytwdZXPZv",
        "colab_type": "text"
      },
      "source": [
        "# **Methods**\n",
        "###clear()\tRemoves all the elements from the list\n",
        "###copy()\tReturns a copy of the list\n",
        "###extend()\tAdd the elements of a list (or any iterable), to the end of the current list\n",
        "###index()\tReturns the index of the first element with the specified value\n",
        "###insert()\tAdds an element at the specified position\n",
        "###pop()\tRemoves the element at the specified position\n",
        "###remove()\tRemoves the item with the specified value\n",
        "###reverse()\tReverses the order of the list\n",
        "###sort()\tSorts the list"
      ]
    }
  ]
}