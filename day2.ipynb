{
  "nbformat": 4,
  "nbformat_minor": 0,
  "metadata": {
    "colab": {
      "name": "day2.ipynb",
      "provenance": [],
      "collapsed_sections": [
        "uBTDl2Wj9jC1",
        "IsbSXeXAAybF",
        "dHgM1KE4A64M"
      ]
    },
    "kernelspec": {
      "name": "python3",
      "display_name": "Python 3"
    }
  },
  "cells": [
    {
      "cell_type": "markdown",
      "metadata": {
        "id": "_zPJnSHy9OvH",
        "colab_type": "text"
      },
      "source": [
        "# **DAY2 :Python BASICS**\n",
        "#'#' is used for single line comments\n",
        "# ''' ''' ised for multi line comments"
      ]
    },
    {
      "cell_type": "markdown",
      "metadata": {
        "id": "uBTDl2Wj9jC1",
        "colab_type": "text"
      },
      "source": [
        "# **TUPLE**\n",
        "### A tuple is a collection which is ordered and unchangeable. \n",
        "# In Python tuples are written with round brackets."
      ]
    },
    {
      "cell_type": "code",
      "metadata": {
        "id": "hBwzhmvQ9Anb",
        "colab_type": "code",
        "colab": {}
      },
      "source": [
        "tuple1 = (\"a\", \"b\", \"c\")\n",
        "print(tuple1)"
      ],
      "execution_count": null,
      "outputs": []
    },
    {
      "cell_type": "code",
      "metadata": {
        "id": "YbmfFNtN9hxo",
        "colab_type": "code",
        "colab": {}
      },
      "source": [
        "''' \n",
        "Tuples are unchangeable , so to change the value\n",
        "convert tuple to list\n",
        "change the list \n",
        "convert then again back to tuple\n",
        "'''\n",
        "x = (\"a\", \"b\", \"c\")\n",
        "y = list(x)\n",
        "y[1] = \"d\"\n",
        "x = tuple(y)\n",
        "\n",
        "print(x)\n",
        "\n"
      ],
      "execution_count": null,
      "outputs": []
    },
    {
      "cell_type": "markdown",
      "metadata": {
        "id": "3T1s6dmt_mix",
        "colab_type": "text"
      },
      "source": [
        "# **LOOPS**\n",
        "Python has 2 primitive loops\n",
        "\n",
        "\n",
        "1.   While\n",
        "2.   for\n",
        "\n",
        "\n"
      ]
    },
    {
      "cell_type": "markdown",
      "metadata": {
        "id": "IsbSXeXAAybF",
        "colab_type": "text"
      },
      "source": [
        "# WHILE LOPP"
      ]
    },
    {
      "cell_type": "code",
      "metadata": {
        "id": "RonYXI6p_7gK",
        "colab_type": "code",
        "colab": {}
      },
      "source": [
        "#WHile loop\n",
        "\n",
        "i = 1\n",
        "while i < 6:\n",
        "  print(i)\n",
        "  i += 1"
      ],
      "execution_count": null,
      "outputs": []
    },
    {
      "cell_type": "code",
      "metadata": {
        "id": "y1SQxyBUAWhW",
        "colab_type": "code",
        "colab": {}
      },
      "source": [
        "#break to stop when condition satisfy\n",
        "i = 1\n",
        "while i < 6:\n",
        "  print(i)\n",
        "  if i == 3:\n",
        "    break\n",
        "  i += 1"
      ],
      "execution_count": null,
      "outputs": []
    },
    {
      "cell_type": "code",
      "metadata": {
        "id": "RpzdWtPQAh1x",
        "colab_type": "code",
        "colab": {}
      },
      "source": [
        "#Continue ,to stop current and execute the next\n",
        "i = 0\n",
        "while i < 6:\n",
        "  i += 1\n",
        "  if i == 3:\n",
        "    continue\n",
        "  print(i)"
      ],
      "execution_count": null,
      "outputs": []
    },
    {
      "cell_type": "code",
      "metadata": {
        "id": "PzVZwM8YAJaP",
        "colab_type": "code",
        "colab": {}
      },
      "source": [
        "#else to print when exiting the loop\n",
        "i = 1\n",
        "while i < 6:\n",
        "  print(i)\n",
        "  i += 1\n",
        "else:\n",
        "  print(\"i is no longer less than 6\")"
      ],
      "execution_count": null,
      "outputs": []
    },
    {
      "cell_type": "markdown",
      "metadata": {
        "id": "dHgM1KE4A64M",
        "colab_type": "text"
      },
      "source": [
        "# FOR LOOP"
      ]
    },
    {
      "cell_type": "code",
      "metadata": {
        "id": "0OrEfT5rBOTL",
        "colab_type": "code",
        "colab": {}
      },
      "source": [
        "fruits = [\"apple\", \"banana\", \"cherry\"]\n",
        "for x in fruits:\n",
        "  print(x)"
      ],
      "execution_count": null,
      "outputs": []
    },
    {
      "cell_type": "code",
      "metadata": {
        "id": "icGj48pPBTrb",
        "colab_type": "code",
        "colab": {}
      },
      "source": [
        "#break statement\n",
        "fruits = [\"apple\", \"banana\", \"cherry\"]\n",
        "for x in fruits:\n",
        "  if x == \"banana\":\n",
        "    break\n",
        "  print(x)"
      ],
      "execution_count": null,
      "outputs": []
    },
    {
      "cell_type": "code",
      "metadata": {
        "id": "rmChp4IYBjU7",
        "colab_type": "code",
        "colab": {}
      },
      "source": [
        "fruits = [\"apple\", \"banana\", \"cherry\"]\n",
        "for x in fruits:\n",
        "  if x == \"banana\":\n",
        "    continue\n",
        "  print(x)"
      ],
      "execution_count": null,
      "outputs": []
    },
    {
      "cell_type": "code",
      "metadata": {
        "id": "VkImId42BleU",
        "colab_type": "code",
        "colab": {}
      },
      "source": [
        "#to loop the code multiple times we can use range()\n",
        "for x in range(6):\n",
        "  print(x)\n",
        "#NoTE: value will be from 0 to 5 wil not include last one"
      ],
      "execution_count": null,
      "outputs": []
    },
    {
      "cell_type": "code",
      "metadata": {
        "id": "TQBosrMRCFBi",
        "colab_type": "code",
        "colab": {}
      },
      "source": [
        "#for loops cannot be empty, but in some reason you  have a for loop with no content\n",
        "#put in the pass statement to avoid getting an error.\n",
        "for x in [0, 1, 2]:\n",
        "  pass"
      ],
      "execution_count": 12,
      "outputs": []
    }
  ]
}